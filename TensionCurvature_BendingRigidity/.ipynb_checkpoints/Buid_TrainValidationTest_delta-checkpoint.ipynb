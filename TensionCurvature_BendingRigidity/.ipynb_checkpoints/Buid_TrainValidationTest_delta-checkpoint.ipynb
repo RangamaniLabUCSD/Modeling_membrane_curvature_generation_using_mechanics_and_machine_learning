{
 "cells": [
  {
   "cell_type": "code",
   "execution_count": 1,
   "metadata": {},
   "outputs": [],
   "source": [
    "# Pressure\n",
    "\n",
    "import numpy as np\n",
    "import matplotlib\n",
    "import matplotlib.pyplot as plt\n",
    "from math import ceil\n",
    "import pandas as pd\n",
    "from random import sample\n",
    "import random\n",
    "\n",
    "font = {'family' : 'DejaVu Sans',\n",
    "        'weight' : 'normal',\n",
    "        'size'   : 18}\n",
    "\n",
    "matplotlib.rc('font', **font)"
   ]
  },
  {
   "cell_type": "code",
   "execution_count": 24,
   "metadata": {},
   "outputs": [],
   "source": [
    "df = pd.read_csv('run_data_pressure.csv')\n",
    "\n",
    "# Proportion of data set to be used in training, validation and testing\n",
    "train_prop = .8 \n",
    "validation_prop = .1\n",
    "test_prop = .1\n",
    "\n",
    "param_ids = set(df.Param_id)\n",
    "\n",
    "# Drop data to have exactle 375 total parameter samples - this is the number of points we'll use for all parameter spaces\n",
    "num_to_drop = len(param_ids) - 375\n",
    "ids_to_drop = set(sample(param_ids, num_to_drop))\n",
    "remaining_param_ids = param_ids - ids_to_drop\n",
    "\n",
    "# Determine the total number of points in parameter space that will be apportioned to testing and validation sets\n",
    "test_num = ceil(test_prop*(len(remaining_param_ids)))\n",
    "validation_num = ceil(validation_prop*(len(remaining_param_ids)))\n",
    "\n",
    "# Randomly sample the correct number of parameter id numbers\n",
    "test_ids = set(sample(remaining_param_ids, test_num))\n",
    "remaining_param_ids = remaining_param_ids - test_ids\n",
    "\n",
    "validation_ids = set(sample(remaining_param_ids, validation_num))\n",
    "train_ids = remaining_param_ids - validation_ids\n",
    "\n",
    "# Finally assign test validation and train based on parameter ids\n",
    "test = df[df.Param_id.isin(test_ids)].reset_index(drop = 'True')\n",
    "train = df[df.Param_id.isin(train_ids)].reset_index(drop = 'True')\n",
    "validation = df[df.Param_id.isin(validation_ids)].reset_index(drop = 'True')"
   ]
  },
  {
   "cell_type": "code",
   "execution_count": 25,
   "metadata": {},
   "outputs": [],
   "source": [
    "# Save\n",
    "validation.to_csv('validation.csv', index=False)\n",
    "test.to_csv('test.csv', index=False)\n",
    "train.to_csv('train.csv', index=False)\n"
   ]
  },
  {
   "cell_type": "code",
   "execution_count": null,
   "metadata": {},
   "outputs": [],
   "source": []
  }
 ],
 "metadata": {
  "kernelspec": {
   "display_name": "Python 3",
   "language": "python",
   "name": "python3"
  },
  "language_info": {
   "codemirror_mode": {
    "name": "ipython",
    "version": 3
   },
   "file_extension": ".py",
   "mimetype": "text/x-python",
   "name": "python",
   "nbconvert_exporter": "python",
   "pygments_lexer": "ipython3",
   "version": "3.8.5"
  }
 },
 "nbformat": 4,
 "nbformat_minor": 4
}
